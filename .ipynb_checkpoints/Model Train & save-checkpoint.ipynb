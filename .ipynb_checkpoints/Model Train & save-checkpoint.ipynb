{
 "cells": [
  {
   "cell_type": "markdown",
   "metadata": {},
   "source": [
    "# Collecting Faces"
   ]
  },
  {
   "cell_type": "code",
   "execution_count": 1,
   "metadata": {},
   "outputs": [
    {
     "name": "stderr",
     "output_type": "stream",
     "text": [
      "<>:8: SyntaxWarning: \"is\" with a literal. Did you mean \"==\"?\n",
      "<>:8: SyntaxWarning: \"is\" with a literal. Did you mean \"==\"?\n",
      "<ipython-input-1-942edc2e3a8f>:8: SyntaxWarning: \"is\" with a literal. Did you mean \"==\"?\n",
      "  if faces is ():\n"
     ]
    },
    {
     "name": "stdout",
     "output_type": "stream",
     "text": [
      "Face Sample collected & prepared for Tushar\n"
     ]
    }
   ],
   "source": [
    "import cv2\n",
    "import numpy as np\n",
    "\n",
    "face_classifier = cv2.CascadeClassifier('haarcascade_frontalface_default.xml')\n",
    "\n",
    "def face_extractor(img):\n",
    "    faces = face_classifier.detectMultiScale(img, 1.4, 6)\n",
    "    if faces is ():\n",
    "        return None\n",
    "    else:\n",
    "        for (x,y,w,h) in faces:\n",
    "            cropped_face = img[y:y+h, x:x+w]\n",
    "        return cropped_face\n",
    "\n",
    "cap = cv2.VideoCapture(0)\n",
    "count = 0\n",
    "\n",
    "while True:\n",
    "    ret, photo = cap.read()\n",
    "    if face_extractor(photo) is not None:\n",
    "        count += 1\n",
    "        face = cv2.resize(face_extractor(photo), (400, 400))\n",
    "        file_name_path = './TrainingData/s1/' + str(count) + '.jpg'\n",
    "        cv2.imwrite(file_name_path, face)\n",
    "        cv2.putText(face, str(count), (90, 50), cv2.FONT_HERSHEY_COMPLEX,0.8, (126,255,0), 1)\n",
    "        cv2.imshow('Face Cropper', face)\n",
    "        cv2.waitKey(1)\n",
    "    else:\n",
    "        pass\n",
    "\n",
    "    if cv2.waitKey(5) == 13 or count == 100:\n",
    "        break\n",
    "        \n",
    "cap.release()\n",
    "cv2.destroyAllWindows()      \n",
    "print(\"Face Sample collected & prepared for Tushar\")"
   ]
  },
  {
   "cell_type": "markdown",
   "metadata": {},
   "source": [
    "# Collecting Vimal's Face from saved pics"
   ]
  },
  {
   "cell_type": "code",
   "execution_count": 2,
   "metadata": {},
   "outputs": [
    {
     "name": "stdout",
     "output_type": "stream",
     "text": [
      "Face Sample prepared for Vimal sir's face\n"
     ]
    }
   ],
   "source": [
    "import cv2\n",
    "from os import listdir          \n",
    "from os.path import isfile, join\n",
    "face_classifier = cv2.CascadeClassifier('haarcascade_frontalface_default.xml')\n",
    "\n",
    "data_path = './Vimal_Pics/'\n",
    "imagefiles = [f for f in listdir(data_path) ]\n",
    "for i, files in enumerate(imagefiles):\n",
    "    image_path = data_path + imagefiles[i]\n",
    "    image = cv2.imread(image_path)\n",
    "    faces = face_classifier.detectMultiScale(image)\n",
    "    for (x,y,w,h) in faces:\n",
    "        cropped_face = image[y:y+h, x:x+w]\n",
    "    face = cv2.resize(cropped_face, (400, 400))\n",
    "    file_name_path = './TrainingData/s2/' + str(i) + '.jpg'\n",
    "    cv2.imwrite(file_name_path, face)\n",
    "print(\"Face Sample prepared for Vimal sir's face\")\n"
   ]
  },
  {
   "cell_type": "markdown",
   "metadata": {},
   "source": [
    "# Creating Training Data"
   ]
  },
  {
   "cell_type": "code",
   "execution_count": 3,
   "metadata": {},
   "outputs": [],
   "source": [
    "import os\n",
    "import cv2\n",
    "def prepare_training_data(data_folder_path):\n",
    " \n",
    "    dirs = os.listdir(data_folder_path)\n",
    "\n",
    "    faces = []\n",
    "    labels = []\n",
    "\n",
    "    for dir_name in dirs:\n",
    "\n",
    "        label = int(dir_name.replace(\"s\", \"\"))\n",
    "\n",
    "\n",
    "        subject_dir_path = data_folder_path + \"/\" + dir_name\n",
    "\n",
    "        subject_images_names = os.listdir(subject_dir_path)\n",
    "\n",
    "\n",
    "        for image_name in subject_images_names:\n",
    "\n",
    "            if image_name.startswith(\".\"):\n",
    "                continue;\n",
    "\n",
    "            image_path = subject_dir_path + \"/\" + image_name\n",
    "\n",
    "            image = cv2.imread(image_path)\n",
    "            image = cv2.cvtColor(image, cv2.COLOR_BGR2GRAY)                   \n",
    "            cv2.imshow(\"Training on image...\", image)\n",
    "            cv2.waitKey(100)\n",
    "\n",
    "            faces.append(image)\n",
    "            labels.append(label)\n",
    "\n",
    "    cv2.destroyAllWindows()\n",
    "\n",
    "    return faces, labels"
   ]
  },
  {
   "cell_type": "code",
   "execution_count": 4,
   "metadata": {},
   "outputs": [
    {
     "name": "stdout",
     "output_type": "stream",
     "text": [
      "Training Data prepared\n",
      "Total faces:  200\n",
      "Total labels:  200\n"
     ]
    }
   ],
   "source": [
    "faces, labels = prepare_training_data(\"./TrainingData/\")\n",
    "print(\"Training Data prepared\")\n",
    "#print total faces and labels\n",
    "print(\"Total faces: \", len(faces))\n",
    "print(\"Total labels: \", len(labels))"
   ]
  },
  {
   "cell_type": "markdown",
   "metadata": {},
   "source": [
    "# Training and Saving Model"
   ]
  },
  {
   "cell_type": "code",
   "execution_count": 5,
   "metadata": {},
   "outputs": [
    {
     "name": "stdout",
     "output_type": "stream",
     "text": [
      "model trained\n",
      "model saved\n"
     ]
    }
   ],
   "source": [
    "import numpy as np\n",
    "face_recognizer = cv2.face.LBPHFaceRecognizer_create()\n",
    "face_recognizer.train(faces, np.array(labels))\n",
    "print(\"model trained\")\n",
    "face_recognizer.save(\"face_recognizer.h5\")\n",
    "print(\"model saved\")"
   ]
  },
  {
   "cell_type": "code",
   "execution_count": null,
   "metadata": {},
   "outputs": [],
   "source": [
    "import cv2\n",
    "import numpy as np\n",
    "subjects = [\"\", \"Tushar\", \"Vimal Sir\"]\n",
    "def draw_rectangle(img, rect):\n",
    "    if rect == []:\n",
    "        return img\n",
    "    else:\n",
    "        (x, y, w, h) = rect\n",
    "        return cv2.rectangle(img, (x, y), (x+w, y+h), (0, 255, 0), 2)\n",
    "        \n",
    "    \n",
    "def draw_text(img, text):\n",
    "    if img is not None:\n",
    "        cv2.putText(img, text, (50, 150), cv2.FONT_HERSHEY_PLAIN, 1.5, (0, 255, 0), 2)\n",
    "\n",
    "def face_detector(img ):\n",
    "    \n",
    "    faces = face_classifier.detectMultiScale(img, 1.4, 5)\n",
    "    if faces == ():\n",
    "        return img, []\n",
    "    \n",
    "    else:\n",
    "        for (x,y,w,h) in faces:\n",
    "            img = cv2.rectangle(img,(x,y),(x+w,y+h),(0,255,255),2)\n",
    "            detected_face = img[y:y+h, x:x+w]\n",
    "            detected_face = cv2.resize(detected_face, (200, 200))\n",
    "            return detected_face, faces[0]\n",
    "        \n",
    "cap = cv2.VideoCapture(0)\n",
    "face_classifier = cv2.CascadeClassifier('haarcascade_frontalface_default.xml')\n",
    "face_recognizer = cv2.face_LBPHFaceRecognizer.create() \n",
    "face_recognizer.read(\"face_recognizer.h5\")\n",
    "while True:\n",
    "   \n",
    "        ret, frame = cap.read()\n",
    "        face, rect = face_detector(frame)\n",
    "        face = cv2.cvtColor(face, cv2.COLOR_BGR2GRAY)      \n",
    "        label = face_recognizer.predict(face)\n",
    "        label_text = subjects[label[0]]\n",
    "        x = draw_rectangle(frame, rect )\n",
    "        #draw_text(frame, label_text, rect[0][0], rect[0][1]-5)\n",
    "        draw_text(x, label_text)\n",
    "        cv2.imshow(\"Hii\", frame)\n",
    "        if cv2.waitKey(1) == 13:\n",
    "            break\n",
    "        \n",
    "   \n",
    "        \n",
    "cv2.destroyAllWindows()\n",
    "cap.release()"
   ]
  },
  {
   "cell_type": "code",
   "execution_count": null,
   "metadata": {},
   "outputs": [],
   "source": []
  }
 ],
 "metadata": {
  "kernelspec": {
   "display_name": "Python 3",
   "language": "python",
   "name": "python3"
  },
  "language_info": {
   "codemirror_mode": {
    "name": "ipython",
    "version": 3
   },
   "file_extension": ".py",
   "mimetype": "text/x-python",
   "name": "python",
   "nbconvert_exporter": "python",
   "pygments_lexer": "ipython3",
   "version": "3.8.8"
  }
 },
 "nbformat": 4,
 "nbformat_minor": 4
}
